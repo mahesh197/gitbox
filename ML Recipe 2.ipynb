{
  "nbformat": 4,
  "nbformat_minor": 0,
  "metadata": {
    "colab": {
      "name": "Untitled7.ipynb",
      "provenance": [],
      "collapsed_sections": [],
      "include_colab_link": true
    },
    "kernelspec": {
      "name": "python3",
      "display_name": "Python 3"
    },
    "accelerator": "GPU"
  },
  "cells": [
    {
      "cell_type": "markdown",
      "metadata": {
        "id": "view-in-github",
        "colab_type": "text"
      },
      "source": [
        "<a href=\"https://colab.research.google.com/github/mahesh197/gitbox/blob/master/ML%20Recipe%202.ipynb\" target=\"_parent\"><img src=\"https://colab.research.google.com/assets/colab-badge.svg\" alt=\"Open In Colab\"/></a>"
      ]
    },
    {
      "cell_type": "code",
      "metadata": {
        "id": "BEBulM61agkh",
        "colab_type": "code",
        "colab": {}
      },
      "source": [
        "from sklearn.datasets import load_iris"
      ],
      "execution_count": 0,
      "outputs": []
    },
    {
      "cell_type": "code",
      "metadata": {
        "id": "yGczctxFalr8",
        "colab_type": "code",
        "colab": {}
      },
      "source": [
        "iris = load_iris()"
      ],
      "execution_count": 0,
      "outputs": []
    },
    {
      "cell_type": "code",
      "metadata": {
        "id": "NqMNSRrCavmp",
        "colab_type": "code",
        "colab": {
          "base_uri": "https://localhost:8080/",
          "height": 54
        },
        "outputId": "36176ce7-45f3-4c06-df3b-700809a764d9"
      },
      "source": [
        "print(iris.feature_names)\n",
        "print(iris.target_names)"
      ],
      "execution_count": 4,
      "outputs": [
        {
          "output_type": "stream",
          "text": [
            "['sepal length (cm)', 'sepal width (cm)', 'petal length (cm)', 'petal width (cm)']\n",
            "['setosa' 'versicolor' 'virginica']\n"
          ],
          "name": "stdout"
        }
      ]
    },
    {
      "cell_type": "code",
      "metadata": {
        "id": "LL9frzOsa9oN",
        "colab_type": "code",
        "colab": {
          "base_uri": "https://localhost:8080/",
          "height": 35
        },
        "outputId": "2b9dbe5f-9514-45a4-aa20-61939d84dfb0"
      },
      "source": [
        "print(iris.data[0])"
      ],
      "execution_count": 5,
      "outputs": [
        {
          "output_type": "stream",
          "text": [
            "[5.1 3.5 1.4 0.2]\n"
          ],
          "name": "stdout"
        }
      ]
    },
    {
      "cell_type": "code",
      "metadata": {
        "id": "BZSaG7lubRzj",
        "colab_type": "code",
        "colab": {
          "base_uri": "https://localhost:8080/",
          "height": 35
        },
        "outputId": "d1d18585-97df-4c3b-96fc-0653c3c60f7e"
      },
      "source": [
        "print(iris.target[0])"
      ],
      "execution_count": 6,
      "outputs": [
        {
          "output_type": "stream",
          "text": [
            "0\n"
          ],
          "name": "stdout"
        }
      ]
    },
    {
      "cell_type": "markdown",
      "metadata": {
        "id": "msbtxK4GbyyQ",
        "colab_type": "text"
      },
      "source": [
        "[Iris dataset from wikipedia](https://en.wikipedia.org/wiki/Iris_flower_data_set)"
      ]
    },
    {
      "cell_type": "code",
      "metadata": {
        "id": "LQjHSE4ib_50",
        "colab_type": "code",
        "colab": {
          "base_uri": "https://localhost:8080/",
          "height": 1000
        },
        "outputId": "fd115683-34ce-40cb-dddb-f25badbb5723"
      },
      "source": [
        "# Printing entire dataset\n",
        "for i in range(len(iris.target)):\n",
        "  print(\"Example {}: Lable:{}, Features:{}\".format(i, iris.target[i], iris.data[i]))"
      ],
      "execution_count": 7,
      "outputs": [
        {
          "output_type": "stream",
          "text": [
            "Example 0: Lable:0, Features:[5.1 3.5 1.4 0.2]\n",
            "Example 1: Lable:0, Features:[4.9 3.  1.4 0.2]\n",
            "Example 2: Lable:0, Features:[4.7 3.2 1.3 0.2]\n",
            "Example 3: Lable:0, Features:[4.6 3.1 1.5 0.2]\n",
            "Example 4: Lable:0, Features:[5.  3.6 1.4 0.2]\n",
            "Example 5: Lable:0, Features:[5.4 3.9 1.7 0.4]\n",
            "Example 6: Lable:0, Features:[4.6 3.4 1.4 0.3]\n",
            "Example 7: Lable:0, Features:[5.  3.4 1.5 0.2]\n",
            "Example 8: Lable:0, Features:[4.4 2.9 1.4 0.2]\n",
            "Example 9: Lable:0, Features:[4.9 3.1 1.5 0.1]\n",
            "Example 10: Lable:0, Features:[5.4 3.7 1.5 0.2]\n",
            "Example 11: Lable:0, Features:[4.8 3.4 1.6 0.2]\n",
            "Example 12: Lable:0, Features:[4.8 3.  1.4 0.1]\n",
            "Example 13: Lable:0, Features:[4.3 3.  1.1 0.1]\n",
            "Example 14: Lable:0, Features:[5.8 4.  1.2 0.2]\n",
            "Example 15: Lable:0, Features:[5.7 4.4 1.5 0.4]\n",
            "Example 16: Lable:0, Features:[5.4 3.9 1.3 0.4]\n",
            "Example 17: Lable:0, Features:[5.1 3.5 1.4 0.3]\n",
            "Example 18: Lable:0, Features:[5.7 3.8 1.7 0.3]\n",
            "Example 19: Lable:0, Features:[5.1 3.8 1.5 0.3]\n",
            "Example 20: Lable:0, Features:[5.4 3.4 1.7 0.2]\n",
            "Example 21: Lable:0, Features:[5.1 3.7 1.5 0.4]\n",
            "Example 22: Lable:0, Features:[4.6 3.6 1.  0.2]\n",
            "Example 23: Lable:0, Features:[5.1 3.3 1.7 0.5]\n",
            "Example 24: Lable:0, Features:[4.8 3.4 1.9 0.2]\n",
            "Example 25: Lable:0, Features:[5.  3.  1.6 0.2]\n",
            "Example 26: Lable:0, Features:[5.  3.4 1.6 0.4]\n",
            "Example 27: Lable:0, Features:[5.2 3.5 1.5 0.2]\n",
            "Example 28: Lable:0, Features:[5.2 3.4 1.4 0.2]\n",
            "Example 29: Lable:0, Features:[4.7 3.2 1.6 0.2]\n",
            "Example 30: Lable:0, Features:[4.8 3.1 1.6 0.2]\n",
            "Example 31: Lable:0, Features:[5.4 3.4 1.5 0.4]\n",
            "Example 32: Lable:0, Features:[5.2 4.1 1.5 0.1]\n",
            "Example 33: Lable:0, Features:[5.5 4.2 1.4 0.2]\n",
            "Example 34: Lable:0, Features:[4.9 3.1 1.5 0.2]\n",
            "Example 35: Lable:0, Features:[5.  3.2 1.2 0.2]\n",
            "Example 36: Lable:0, Features:[5.5 3.5 1.3 0.2]\n",
            "Example 37: Lable:0, Features:[4.9 3.6 1.4 0.1]\n",
            "Example 38: Lable:0, Features:[4.4 3.  1.3 0.2]\n",
            "Example 39: Lable:0, Features:[5.1 3.4 1.5 0.2]\n",
            "Example 40: Lable:0, Features:[5.  3.5 1.3 0.3]\n",
            "Example 41: Lable:0, Features:[4.5 2.3 1.3 0.3]\n",
            "Example 42: Lable:0, Features:[4.4 3.2 1.3 0.2]\n",
            "Example 43: Lable:0, Features:[5.  3.5 1.6 0.6]\n",
            "Example 44: Lable:0, Features:[5.1 3.8 1.9 0.4]\n",
            "Example 45: Lable:0, Features:[4.8 3.  1.4 0.3]\n",
            "Example 46: Lable:0, Features:[5.1 3.8 1.6 0.2]\n",
            "Example 47: Lable:0, Features:[4.6 3.2 1.4 0.2]\n",
            "Example 48: Lable:0, Features:[5.3 3.7 1.5 0.2]\n",
            "Example 49: Lable:0, Features:[5.  3.3 1.4 0.2]\n",
            "Example 50: Lable:1, Features:[7.  3.2 4.7 1.4]\n",
            "Example 51: Lable:1, Features:[6.4 3.2 4.5 1.5]\n",
            "Example 52: Lable:1, Features:[6.9 3.1 4.9 1.5]\n",
            "Example 53: Lable:1, Features:[5.5 2.3 4.  1.3]\n",
            "Example 54: Lable:1, Features:[6.5 2.8 4.6 1.5]\n",
            "Example 55: Lable:1, Features:[5.7 2.8 4.5 1.3]\n",
            "Example 56: Lable:1, Features:[6.3 3.3 4.7 1.6]\n",
            "Example 57: Lable:1, Features:[4.9 2.4 3.3 1. ]\n",
            "Example 58: Lable:1, Features:[6.6 2.9 4.6 1.3]\n",
            "Example 59: Lable:1, Features:[5.2 2.7 3.9 1.4]\n",
            "Example 60: Lable:1, Features:[5.  2.  3.5 1. ]\n",
            "Example 61: Lable:1, Features:[5.9 3.  4.2 1.5]\n",
            "Example 62: Lable:1, Features:[6.  2.2 4.  1. ]\n",
            "Example 63: Lable:1, Features:[6.1 2.9 4.7 1.4]\n",
            "Example 64: Lable:1, Features:[5.6 2.9 3.6 1.3]\n",
            "Example 65: Lable:1, Features:[6.7 3.1 4.4 1.4]\n",
            "Example 66: Lable:1, Features:[5.6 3.  4.5 1.5]\n",
            "Example 67: Lable:1, Features:[5.8 2.7 4.1 1. ]\n",
            "Example 68: Lable:1, Features:[6.2 2.2 4.5 1.5]\n",
            "Example 69: Lable:1, Features:[5.6 2.5 3.9 1.1]\n",
            "Example 70: Lable:1, Features:[5.9 3.2 4.8 1.8]\n",
            "Example 71: Lable:1, Features:[6.1 2.8 4.  1.3]\n",
            "Example 72: Lable:1, Features:[6.3 2.5 4.9 1.5]\n",
            "Example 73: Lable:1, Features:[6.1 2.8 4.7 1.2]\n",
            "Example 74: Lable:1, Features:[6.4 2.9 4.3 1.3]\n",
            "Example 75: Lable:1, Features:[6.6 3.  4.4 1.4]\n",
            "Example 76: Lable:1, Features:[6.8 2.8 4.8 1.4]\n",
            "Example 77: Lable:1, Features:[6.7 3.  5.  1.7]\n",
            "Example 78: Lable:1, Features:[6.  2.9 4.5 1.5]\n",
            "Example 79: Lable:1, Features:[5.7 2.6 3.5 1. ]\n",
            "Example 80: Lable:1, Features:[5.5 2.4 3.8 1.1]\n",
            "Example 81: Lable:1, Features:[5.5 2.4 3.7 1. ]\n",
            "Example 82: Lable:1, Features:[5.8 2.7 3.9 1.2]\n",
            "Example 83: Lable:1, Features:[6.  2.7 5.1 1.6]\n",
            "Example 84: Lable:1, Features:[5.4 3.  4.5 1.5]\n",
            "Example 85: Lable:1, Features:[6.  3.4 4.5 1.6]\n",
            "Example 86: Lable:1, Features:[6.7 3.1 4.7 1.5]\n",
            "Example 87: Lable:1, Features:[6.3 2.3 4.4 1.3]\n",
            "Example 88: Lable:1, Features:[5.6 3.  4.1 1.3]\n",
            "Example 89: Lable:1, Features:[5.5 2.5 4.  1.3]\n",
            "Example 90: Lable:1, Features:[5.5 2.6 4.4 1.2]\n",
            "Example 91: Lable:1, Features:[6.1 3.  4.6 1.4]\n",
            "Example 92: Lable:1, Features:[5.8 2.6 4.  1.2]\n",
            "Example 93: Lable:1, Features:[5.  2.3 3.3 1. ]\n",
            "Example 94: Lable:1, Features:[5.6 2.7 4.2 1.3]\n",
            "Example 95: Lable:1, Features:[5.7 3.  4.2 1.2]\n",
            "Example 96: Lable:1, Features:[5.7 2.9 4.2 1.3]\n",
            "Example 97: Lable:1, Features:[6.2 2.9 4.3 1.3]\n",
            "Example 98: Lable:1, Features:[5.1 2.5 3.  1.1]\n",
            "Example 99: Lable:1, Features:[5.7 2.8 4.1 1.3]\n",
            "Example 100: Lable:2, Features:[6.3 3.3 6.  2.5]\n",
            "Example 101: Lable:2, Features:[5.8 2.7 5.1 1.9]\n",
            "Example 102: Lable:2, Features:[7.1 3.  5.9 2.1]\n",
            "Example 103: Lable:2, Features:[6.3 2.9 5.6 1.8]\n",
            "Example 104: Lable:2, Features:[6.5 3.  5.8 2.2]\n",
            "Example 105: Lable:2, Features:[7.6 3.  6.6 2.1]\n",
            "Example 106: Lable:2, Features:[4.9 2.5 4.5 1.7]\n",
            "Example 107: Lable:2, Features:[7.3 2.9 6.3 1.8]\n",
            "Example 108: Lable:2, Features:[6.7 2.5 5.8 1.8]\n",
            "Example 109: Lable:2, Features:[7.2 3.6 6.1 2.5]\n",
            "Example 110: Lable:2, Features:[6.5 3.2 5.1 2. ]\n",
            "Example 111: Lable:2, Features:[6.4 2.7 5.3 1.9]\n",
            "Example 112: Lable:2, Features:[6.8 3.  5.5 2.1]\n",
            "Example 113: Lable:2, Features:[5.7 2.5 5.  2. ]\n",
            "Example 114: Lable:2, Features:[5.8 2.8 5.1 2.4]\n",
            "Example 115: Lable:2, Features:[6.4 3.2 5.3 2.3]\n",
            "Example 116: Lable:2, Features:[6.5 3.  5.5 1.8]\n",
            "Example 117: Lable:2, Features:[7.7 3.8 6.7 2.2]\n",
            "Example 118: Lable:2, Features:[7.7 2.6 6.9 2.3]\n",
            "Example 119: Lable:2, Features:[6.  2.2 5.  1.5]\n",
            "Example 120: Lable:2, Features:[6.9 3.2 5.7 2.3]\n",
            "Example 121: Lable:2, Features:[5.6 2.8 4.9 2. ]\n",
            "Example 122: Lable:2, Features:[7.7 2.8 6.7 2. ]\n",
            "Example 123: Lable:2, Features:[6.3 2.7 4.9 1.8]\n",
            "Example 124: Lable:2, Features:[6.7 3.3 5.7 2.1]\n",
            "Example 125: Lable:2, Features:[7.2 3.2 6.  1.8]\n",
            "Example 126: Lable:2, Features:[6.2 2.8 4.8 1.8]\n",
            "Example 127: Lable:2, Features:[6.1 3.  4.9 1.8]\n",
            "Example 128: Lable:2, Features:[6.4 2.8 5.6 2.1]\n",
            "Example 129: Lable:2, Features:[7.2 3.  5.8 1.6]\n",
            "Example 130: Lable:2, Features:[7.4 2.8 6.1 1.9]\n",
            "Example 131: Lable:2, Features:[7.9 3.8 6.4 2. ]\n",
            "Example 132: Lable:2, Features:[6.4 2.8 5.6 2.2]\n",
            "Example 133: Lable:2, Features:[6.3 2.8 5.1 1.5]\n",
            "Example 134: Lable:2, Features:[6.1 2.6 5.6 1.4]\n",
            "Example 135: Lable:2, Features:[7.7 3.  6.1 2.3]\n",
            "Example 136: Lable:2, Features:[6.3 3.4 5.6 2.4]\n",
            "Example 137: Lable:2, Features:[6.4 3.1 5.5 1.8]\n",
            "Example 138: Lable:2, Features:[6.  3.  4.8 1.8]\n",
            "Example 139: Lable:2, Features:[6.9 3.1 5.4 2.1]\n",
            "Example 140: Lable:2, Features:[6.7 3.1 5.6 2.4]\n",
            "Example 141: Lable:2, Features:[6.9 3.1 5.1 2.3]\n",
            "Example 142: Lable:2, Features:[5.8 2.7 5.1 1.9]\n",
            "Example 143: Lable:2, Features:[6.8 3.2 5.9 2.3]\n",
            "Example 144: Lable:2, Features:[6.7 3.3 5.7 2.5]\n",
            "Example 145: Lable:2, Features:[6.7 3.  5.2 2.3]\n",
            "Example 146: Lable:2, Features:[6.3 2.5 5.  1.9]\n",
            "Example 147: Lable:2, Features:[6.5 3.  5.2 2. ]\n",
            "Example 148: Lable:2, Features:[6.2 3.4 5.4 2.3]\n",
            "Example 149: Lable:2, Features:[5.9 3.  5.1 1.8]\n"
          ],
          "name": "stdout"
        }
      ]
    },
    {
      "cell_type": "code",
      "metadata": {
        "id": "ZaRU-PgNcbI4",
        "colab_type": "code",
        "colab": {}
      },
      "source": [
        ""
      ],
      "execution_count": 0,
      "outputs": []
    }
  ]
}