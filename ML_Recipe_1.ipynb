{
  "nbformat": 4,
  "nbformat_minor": 0,
  "metadata": {
    "colab": {
      "name": "Untitled6.ipynb",
      "provenance": [],
      "collapsed_sections": [],
      "include_colab_link": true
    },
    "kernelspec": {
      "name": "python3",
      "display_name": "Python 3"
    },
    "accelerator": "GPU"
  },
  "cells": [
    {
      "cell_type": "markdown",
      "metadata": {
        "id": "view-in-github",
        "colab_type": "text"
      },
      "source": [
        "<a href=\"https://colab.research.google.com/github/mahesh197/gitbox/blob/master/ML_Recipe_1.ipynb\" target=\"_parent\"><img src=\"https://colab.research.google.com/assets/colab-badge.svg\" alt=\"Open In Colab\"/></a>"
      ]
    },
    {
      "cell_type": "markdown",
      "metadata": {
        "id": "-0o7L3yrVi1a",
        "colab_type": "text"
      },
      "source": [
        "## Supervised Learning:\n",
        "Create classifier by finding patterns in examples"
      ]
    },
    {
      "cell_type": "markdown",
      "metadata": {
        "id": "-3Jg0yqJWAKV",
        "colab_type": "text"
      },
      "source": [
        "### Supervised Learning Recipe\n",
        "Collect training data => Train Classifier => Make Predictions"
      ]
    },
    {
      "cell_type": "markdown",
      "metadata": {
        "id": "R7BNHGQTZf05",
        "colab_type": "text"
      },
      "source": [
        "Classfier to find the apple and orange                                                       "
      ]
    },
    {
      "cell_type": "code",
      "metadata": {
        "id": "qbN_8havWkMH",
        "colab_type": "code",
        "colab": {}
      },
      "source": [
        "from sklearn import tree"
      ],
      "execution_count": 0,
      "outputs": []
    },
    {
      "cell_type": "code",
      "metadata": {
        "id": "gIh5IaLGWmGS",
        "colab_type": "code",
        "colab": {}
      },
      "source": [
        "# Collecting data\n",
        "features = [[140, 1], [130, 1], [150, 0], [170, 0]]  # 0 for bumpy and 1 for smooth\n",
        "lables = [0, 0, 1, 1]  # 0 for apple and 1 for orange"
      ],
      "execution_count": 0,
      "outputs": []
    },
    {
      "cell_type": "code",
      "metadata": {
        "id": "ivJrBfgiXkCq",
        "colab_type": "code",
        "colab": {}
      },
      "source": [
        "# Train classifire\n",
        "# we will start with Decision tree\n",
        "clf = tree.DecisionTreeClassifier()\n",
        "clf = clf.fit(features, lables)  # fit is synonym for find patterns in data"
      ],
      "execution_count": 0,
      "outputs": []
    },
    {
      "cell_type": "code",
      "metadata": {
        "id": "QCXEcLRUYoBc",
        "colab_type": "code",
        "outputId": "009e2759-8bf8-45fb-8dfa-9b053b5a6276",
        "colab": {
          "base_uri": "https://localhost:8080/",
          "height": 35
        }
      },
      "source": [
        "# Make predictions\n",
        "clf.predict([[150, 0],[130, 1]])"
      ],
      "execution_count": 0,
      "outputs": [
        {
          "output_type": "execute_result",
          "data": {
            "text/plain": [
              "array([1, 1])"
            ]
          },
          "metadata": {
            "tags": []
          },
          "execution_count": 10
        }
      ]
    },
    {
      "cell_type": "code",
      "metadata": {
        "id": "zoO9DqBsYvXx",
        "colab_type": "code",
        "colab": {}
      },
      "source": [
        ""
      ],
      "execution_count": 0,
      "outputs": []
    }
  ]
}